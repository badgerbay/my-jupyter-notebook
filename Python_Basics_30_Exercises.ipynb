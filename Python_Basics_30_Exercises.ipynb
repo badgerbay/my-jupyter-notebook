{
 "cells": [
  {
   "cell_type": "code",
   "execution_count": null,
   "id": "d510607e",
   "metadata": {},
   "outputs": [],
   "source": [
    "# Exercise 1: Print your name\n",
    "print(\"Your Name\")"
   ]
  },
  {
   "cell_type": "code",
   "execution_count": null,
   "id": "12408eac",
   "metadata": {},
   "outputs": [],
   "source": [
    "# Exercise 2: Add two numbers\n",
    "print(3 + 5)"
   ]
  },
  {
   "cell_type": "code",
   "execution_count": null,
   "id": "f2951a88",
   "metadata": {},
   "outputs": [],
   "source": [
    "# Exercise 3: Subtract two numbers\n",
    "print(10 - 4)"
   ]
  },
  {
   "cell_type": "code",
   "execution_count": null,
   "id": "3c21e284",
   "metadata": {},
   "outputs": [],
   "source": [
    "# Exercise 4: Multiply two numbers\n",
    "print(6 * 7)"
   ]
  },
  {
   "cell_type": "code",
   "execution_count": null,
   "id": "61123434",
   "metadata": {},
   "outputs": [],
   "source": [
    "# Exercise 5: Divide two numbers\n",
    "print(20 / 4)"
   ]
  },
  {
   "cell_type": "code",
   "execution_count": null,
   "id": "81c80ae4",
   "metadata": {},
   "outputs": [],
   "source": [
    "# Exercise 6: Use variables to store values\n",
    "a = 10\n",
    "b = 5\n",
    "print(a + b)"
   ]
  },
  {
   "cell_type": "code",
   "execution_count": null,
   "id": "bca02199",
   "metadata": {},
   "outputs": [],
   "source": [
    "# Exercise 7: Create a string variable\n",
    "name = \"Alice\"\n",
    "print(name)"
   ]
  },
  {
   "cell_type": "code",
   "execution_count": null,
   "id": "eb21b51f",
   "metadata": {},
   "outputs": [],
   "source": [
    "# Exercise 8: Use f-strings for output\n",
    "name = \"Alice\"\n",
    "print(f\"Hello, {name}!\")"
   ]
  },
  {
   "cell_type": "code",
   "execution_count": null,
   "id": "f65e3e1b",
   "metadata": {},
   "outputs": [],
   "source": [
    "# Exercise 9: Take input from the user\n",
    "name = input(\"What is your name? \")\n",
    "print(f\"Hi, {name}!\")"
   ]
  },
  {
   "cell_type": "code",
   "execution_count": null,
   "id": "6d142424",
   "metadata": {},
   "outputs": [],
   "source": [
    "# Exercise 10: Convert input to integer\n",
    "age = int(input(\"What is your age? \"))\n",
    "print(age + 1)"
   ]
  },
  {
   "cell_type": "code",
   "execution_count": null,
   "id": "69b83310",
   "metadata": {},
   "outputs": [],
   "source": [
    "# Exercise 11: Use if statements\n",
    "x = 10\n",
    "if x > 5:\n",
    "    print(\"x is greater than 5\")"
   ]
  },
  {
   "cell_type": "code",
   "execution_count": null,
   "id": "7e254fcb",
   "metadata": {},
   "outputs": [],
   "source": [
    "# Exercise 12: if-else statement\n",
    "x = 3\n",
    "if x > 5:\n",
    "    print(\"x is greater than 5\")\n",
    "else:\n",
    "    print(\"x is 5 or less\")"
   ]
  },
  {
   "cell_type": "code",
   "execution_count": null,
   "id": "0999e554",
   "metadata": {},
   "outputs": [],
   "source": [
    "# Exercise 13: elif statement\n",
    "x = 5\n",
    "if x > 5:\n",
    "    print(\"x > 5\")\n",
    "elif x == 5:\n",
    "    print(\"x is 5\")\n",
    "else:\n",
    "    print(\"x < 5\")"
   ]
  },
  {
   "cell_type": "code",
   "execution_count": null,
   "id": "062977c6",
   "metadata": {},
   "outputs": [],
   "source": [
    "# Exercise 14: while loop\n",
    "count = 0\n",
    "while count < 5:\n",
    "    print(count)\n",
    "    count += 1"
   ]
  },
  {
   "cell_type": "code",
   "execution_count": null,
   "id": "78031573",
   "metadata": {},
   "outputs": [],
   "source": [
    "# Exercise 15: for loop\n",
    "for i in range(5):\n",
    "    print(i)"
   ]
  },
  {
   "cell_type": "code",
   "execution_count": null,
   "id": "be3346cf",
   "metadata": {},
   "outputs": [],
   "source": [
    "# Exercise 16: loop through a list\n",
    "fruits = [\"apple\", \"banana\", \"cherry\"]\n",
    "for fruit in fruits:\n",
    "    print(fruit)"
   ]
  },
  {
   "cell_type": "code",
   "execution_count": null,
   "id": "bc52d076",
   "metadata": {},
   "outputs": [],
   "source": [
    "# Exercise 17: define a function\n",
    "def greet():\n",
    "    print(\"Hello!\")\n",
    "greet()"
   ]
  },
  {
   "cell_type": "code",
   "execution_count": null,
   "id": "f0ac3957",
   "metadata": {},
   "outputs": [],
   "source": [
    "# Exercise 18: function with parameter\n",
    "def greet(name):\n",
    "    print(f\"Hello, {name}!\")\n",
    "greet(\"Bob\")"
   ]
  },
  {
   "cell_type": "code",
   "execution_count": null,
   "id": "5496d31f",
   "metadata": {},
   "outputs": [],
   "source": [
    "# Exercise 19: return value from function\n",
    "def add(a, b):\n",
    "    return a + b\n",
    "print(add(3, 4))"
   ]
  },
  {
   "cell_type": "code",
   "execution_count": null,
   "id": "056aa6a8",
   "metadata": {},
   "outputs": [],
   "source": [
    "# Exercise 20: list operations\n",
    "numbers = [1, 2, 3]\n",
    "numbers.append(4)\n",
    "print(numbers)"
   ]
  },
  {
   "cell_type": "code",
   "execution_count": null,
   "id": "7df34798",
   "metadata": {},
   "outputs": [],
   "source": [
    "# Exercise 21: slicing lists\n",
    "my_list = [0, 1, 2, 3, 4]\n",
    "print(my_list[1:4])"
   ]
  },
  {
   "cell_type": "code",
   "execution_count": null,
   "id": "3040a6e4",
   "metadata": {},
   "outputs": [],
   "source": [
    "# Exercise 22: using a dictionary\n",
    "person = {\"name\": \"Alice\", \"age\": 25}\n",
    "print(person[\"name\"])"
   ]
  },
  {
   "cell_type": "code",
   "execution_count": null,
   "id": "6efb3c19",
   "metadata": {},
   "outputs": [],
   "source": [
    "# Exercise 23: updating dictionary values\n",
    "person[\"age\"] = 26\n",
    "print(person)"
   ]
  },
  {
   "cell_type": "code",
   "execution_count": null,
   "id": "effcc3e2",
   "metadata": {},
   "outputs": [],
   "source": [
    "# Exercise 24: loop through dictionary\n",
    "for key in person:\n",
    "    print(f\"{key}: {person[key]}\")"
   ]
  },
  {
   "cell_type": "code",
   "execution_count": null,
   "id": "e6f66c8b",
   "metadata": {},
   "outputs": [],
   "source": [
    "# Exercise 25: list comprehension\n",
    "squares = [x**2 for x in range(5)]\n",
    "print(squares)"
   ]
  },
  {
   "cell_type": "code",
   "execution_count": null,
   "id": "322f04ee",
   "metadata": {},
   "outputs": [],
   "source": [
    "# Exercise 26: try-except block\n",
    "try:\n",
    "    x = int(\"abc\")\n",
    "except ValueError:\n",
    "    print(\"That was not a number\")"
   ]
  },
  {
   "cell_type": "code",
   "execution_count": null,
   "id": "c547e662",
   "metadata": {},
   "outputs": [],
   "source": [
    "# Exercise 27: importing a module\n",
    "import math\n",
    "print(math.sqrt(16))"
   ]
  },
  {
   "cell_type": "code",
   "execution_count": null,
   "id": "f9be19bf",
   "metadata": {},
   "outputs": [],
   "source": [
    "# Exercise 28: using random module\n",
    "import random\n",
    "print(random.randint(1, 10))"
   ]
  },
  {
   "cell_type": "code",
   "execution_count": null,
   "id": "a6cd02b1",
   "metadata": {},
   "outputs": [],
   "source": [
    "# Exercise 29: file write\n",
    "with open(\"test.txt\", \"w\") as f:\n",
    "    f.write(\"Hello, file!\")"
   ]
  },
  {
   "cell_type": "code",
   "execution_count": null,
   "id": "987fc492",
   "metadata": {},
   "outputs": [],
   "source": [
    "# Exercise 30: file read\n",
    "with open(\"test.txt\", \"r\") as f:\n",
    "    content = f.read()\n",
    "print(content)"
   ]
  }
 ],
 "metadata": {},
 "nbformat": 4,
 "nbformat_minor": 5
}
